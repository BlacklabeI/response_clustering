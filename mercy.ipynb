{
 "metadata": {
  "language_info": {
   "codemirror_mode": {
    "name": "ipython",
    "version": 3
   },
   "file_extension": ".py",
   "mimetype": "text/x-python",
   "name": "python",
   "nbconvert_exporter": "python",
   "pygments_lexer": "ipython3",
   "version": "3.9.2"
  },
  "orig_nbformat": 2,
  "kernelspec": {
   "name": "python3",
   "display_name": "Python 3.9.2 64-bit",
   "metadata": {
    "interpreter": {
     "hash": "9cd8623eef020280579be3b5ec91609d3c22aeccc1e666c4c2541f27febcc241"
    }
   }
  }
 },
 "nbformat": 4,
 "nbformat_minor": 2,
 "cells": [
  {
   "cell_type": "code",
   "execution_count": 4,
   "metadata": {},
   "outputs": [
    {
     "output_type": "stream",
     "name": "stdout",
     "text": [
      "Bank account Created...\n",
      "Gross salary is  49500.0\n",
      "Deductions  4500.0\n",
      "Net salary is  45000.0\n",
      "Bank account Created...\n",
      "Deposit is successful and account balance is 45000.000000\n",
      "The withdrawal is successful and account balance is 25000.000000\n",
      "Your bank account balance is 25000.000000\n",
      "Bank account Created...\n"
     ]
    },
    {
     "output_type": "error",
     "ename": "ValueError",
     "evalue": "invalid literal for int() with base 10: ''",
     "traceback": [
      "\u001b[1;31m---------------------------------------------------------------------------\u001b[0m",
      "\u001b[1;31mValueError\u001b[0m                                Traceback (most recent call last)",
      "\u001b[1;32m<ipython-input-4-814ae085d555>\u001b[0m in \u001b[0;36m<module>\u001b[1;34m\u001b[0m\n\u001b[0;32m     45\u001b[0m \u001b[1;33m\u001b[0m\u001b[0m\n\u001b[0;32m     46\u001b[0m \u001b[1;33m\u001b[0m\u001b[0m\n\u001b[1;32m---> 47\u001b[1;33m \u001b[0mSalary\u001b[0m\u001b[1;33m(\u001b[0m\u001b[1;33m)\u001b[0m\u001b[1;33m.\u001b[0m\u001b[0mgross_salary\u001b[0m\u001b[1;33m(\u001b[0m\u001b[1;33m)\u001b[0m\u001b[1;33m\u001b[0m\u001b[1;33m\u001b[0m\u001b[0m\n\u001b[0m",
      "\u001b[1;32m<ipython-input-4-814ae085d555>\u001b[0m in \u001b[0;36mgross_salary\u001b[1;34m(self)\u001b[0m\n\u001b[0;32m      5\u001b[0m \u001b[1;33m\u001b[0m\u001b[0m\n\u001b[0;32m      6\u001b[0m     \u001b[1;32mdef\u001b[0m \u001b[0mgross_salary\u001b[0m\u001b[1;33m(\u001b[0m\u001b[0mself\u001b[0m\u001b[1;33m)\u001b[0m\u001b[1;33m:\u001b[0m\u001b[1;33m\u001b[0m\u001b[1;33m\u001b[0m\u001b[0m\n\u001b[1;32m----> 7\u001b[1;33m         \u001b[0mtotal_days\u001b[0m \u001b[1;33m=\u001b[0m \u001b[0mint\u001b[0m\u001b[1;33m(\u001b[0m\u001b[0minput\u001b[0m\u001b[1;33m(\u001b[0m\u001b[1;34m\"Enter Number of Days  :\"\u001b[0m\u001b[1;33m)\u001b[0m\u001b[1;33m)\u001b[0m\u001b[1;33m\u001b[0m\u001b[1;33m\u001b[0m\u001b[0m\n\u001b[0m\u001b[0;32m      8\u001b[0m         \u001b[0mdaily_compensation\u001b[0m \u001b[1;33m=\u001b[0m \u001b[0mfloat\u001b[0m\u001b[1;33m(\u001b[0m\u001b[0minput\u001b[0m\u001b[1;33m(\u001b[0m\u001b[1;34m\"Enter Compensation per day    :\"\u001b[0m\u001b[1;33m)\u001b[0m\u001b[1;33m)\u001b[0m\u001b[1;33m\u001b[0m\u001b[1;33m\u001b[0m\u001b[0m\n\u001b[0;32m      9\u001b[0m \u001b[1;33m\u001b[0m\u001b[0m\n",
      "\u001b[1;31mValueError\u001b[0m: invalid literal for int() with base 10: ''"
     ]
    }
   ],
   "source": [
    "class Salary():\n",
    "    def __init__(self):\n",
    "        self.balance = 0\n",
    "        print(\"Bank account Created...\")\n",
    "\n",
    "    def gross_salary(self):\n",
    "        total_days = int(input(\"Enter Number of Days  :\"))\n",
    "        daily_compensation = float(input(\"Enter Compensation per day    :\"))\n",
    "\n",
    "        basicsalary=total_days*daily_compensation;\n",
    "        House_Rent_Allowance = basicsalary*20/100;\n",
    "        Transport_Allowance = basicsalary*20/100;\n",
    "        Medical_Expenses = basicsalary*25/100;\n",
    "        tax = basicsalary*15/100;\n",
    "\n",
    "        self.grosssalary = basicsalary+House_Rent_Allowance+Transport_Allowance+Medical_Expenses\n",
    "        self.deductions = tax\n",
    "        self.netsalary = self.grosssalary-self.deductions\n",
    "        print(\"Gross salary is \", self.grosssalary)\n",
    "        print(\"Deductions \", self.deductions)\n",
    "        print(\"Net salary is \", self.netsalary)\n",
    "\n",
    "    def deposit(self):\n",
    "        amount = float(input(\"Enter the amount to deposit: \"))\n",
    "        self.balance = self.balance + amount + self.netsalary\n",
    "        print(\"Deposit is successful and account balance is %f\" % self.balance)\n",
    "\n",
    "    def withdraw(self):\n",
    "        amount = float(input(\"Enter the amount to withdraw: \"))\n",
    "        if (self.balance >= amount):\n",
    "            self.balance = self.balance - amount\n",
    "            print(\"The withdrawal is successful and account balance is %f\" % self.balance)\n",
    "        else:\n",
    "            print(\"Insufficient Amount\")\n",
    "    \n",
    "    def enquiry(self):\n",
    "        print(\"Your bank account balance is %f\" % self.balance)\n",
    "\n",
    "\n",
    "Salary().gross_salary()\n",
    "acc = Salary()\n",
    "acc.deposit()\n",
    "acc.withdraw()\n",
    "acc.enquiry()\n",
    "\n",
    "    \n",
    "Salary().gross_salary()"
   ]
  },
  {
   "cell_type": "code",
   "execution_count": null,
   "metadata": {},
   "outputs": [],
   "source": []
  }
 ]
}